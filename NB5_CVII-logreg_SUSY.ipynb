{
 "cells": [
  {
   "cell_type": "markdown",
   "metadata": {},
   "source": [
    "#  Notebook 5: Introduction to  Logistic Regression, Pandas, and TensorFlow #\n"
   ]
  },
  {
   "cell_type": "markdown",
   "metadata": {},
   "source": [
    "\n",
    "## Learning Goals##\n",
    "This notebook will serve as an introduction to the logistic regression as well as the new extremely powerful TensorFlow library for Machine Learning (ML) from Google. We will also learn how to use the versatile Pandas package for handling data. For those of you familiar with the `R` language, the Pandas objects are extremely similar to the dataframe objects in `R`.\n",
    "\n",
    "## Overview##\n",
    "Throughout, we will work with the [SUSY dataset](https://archive.ics.uci.edu/ml/machine-learning-databases/00279/SUSY.csv.gz). It is available from the [UCI Machine Learning Repository](https://archive.ics.uci.edu/ml/datasets.html), which is a very comprehensive repository of useful datasets relevant to ML.\n",
    "\n",
    "Here is the description of the SUSY dataset we will be playing around with for this notebook:\n",
    ">The data has been produced using Monte Carlo simulations and contains events with two leptons (electrons or muons). In high energy physics experiments, such as the ATLAS and CMS detectors at the CERN LHC, one major hope is the discovery of new particles. To accomplish this task, physicists attempt to sift through data events and classify them as either a signal of some new physics process or particle, or instead a background event from understood Standard Model processes. Unfortunately we will never know for sure what underlying physical process happened (the only information to which we have access are the final state particles). However, we can attempt to define parts of phase space that will have a high percentage of signal events. Typically this is done by using a series of simple requirements on the kinematic quantities of the final state particles, for example having one or more leptons with large amounts of momentum that is transverse to the beam line ($p_{T}$). Here instead we will use logistic regression in order to attempt to find out the relative probability that an event is from a signal or a background event and rather than using the kinematic quantities of final state particles directly we will use the output of our logistic regression to define a part of phase space that is enriched in signal events. The dataset we are using has the value of 18 kinematic variables (\"features\") of the event. The first 8 features are direct measurements of final state particles, in this case the $p_{T}$, pseudo-rapidity ($\\eta$), and azimuthal angle ($\\phi$) of two leptons in the event and the amount of missing transverse momentum (MET) together with its azimuthal angle. The last ten features are functions of the first 8 features; these are high-level features derived by physicists to help discriminate between the two classes. You can think of them as physicists attempt to use non-linear functions to classify signal and background events and they have been developed with a lot of deep thinking on the part of physicist. There is however, an interest in using deep learning methods to obviate the need for physicists to manually develop such features. Benchmark results using Bayesian Decision Trees from a standard physics package and 5-layer neural networks and the dropout algorithm are presented in the original paper to compare the ability of deep-learning to bypass the need of using such high level features. We will also explore this topic in later notebooks. The dataset consists of 5 million events, the first 4,500,000 of which we will use for training the model and the last 500,000 examples will be used as a test set.\n",
    "\n",
    "This dataset comes from this interesting paper by the UCI group: <cite> P. Baldi, P. Sadowski, and D. Whiteson. \"Searching for Exotic Particles in High-energy Physics with Deep Learning.\" Nature Communications 5 (July 2, 2014)</cite>.\n",
    "\n",
    "## Categorical data/Classification Tasks ##\n",
    "\n",
    "So far, we have largely focused on supervised learning tasks such as linear regression, where the goal is to make predictions about continuous labels. Often, we are also interested in classification tasks -- where the goal is to assign samples to categories. The training data consists of a set of features and discrete labels. This type of data is called categorical data (the data comes in different categories). \n",
    "\n",
    "Initially, we will focus on a binary classification task. In the SUSY dataset, the goal is to decide whether a data point represents signal \"potential collision\"- labeled 1, or \"background\"(Standard Model processes which produce final states with similar constituents as SUSY processes) - labeled 0. This is done by looking at 18 features - the first 8 of which are \"low-level\" features that can be directly measured and the last 10 features are \"higher-order\" features constructed using physics intuition. In more detail:\n",
    ">The first column is the class label (1 for signal, 0 for background), followed by the 18 features (8 low-level features then 10 high-level features):: lepton 1 pT, lepton 1 eta, lepton 1 phi, lepton 2 pT, lepton 2 eta, lepton 2 phi, missing energy magnitude, missing energy phi, MET_rel, axial MET, M_R, M_TR_2, R, MT2, S_R, M_Delta_R, dPhi_r_b, cos(theta_r1)\n",
    "\n",
    "Our goal will be to use either the first 8 features or the full 18 features to predict whether an event is signal or background.\n",
    "\n",
    "## Logistic Regression##\n",
    "\n",
    "\n",
    "One of the best understood and canonical methods for performing such a task is Logistic Regression. We will see that a deep understanding of Logistic regression will introduce us to many of the ideas and techniques at the forefront of modern Machine Learning. In Logistic regression, each set of features $\\mathbf{x}_i$ is associated with a category $C_i\\in\\{1,0\\}$, with $i=1\\ldots n$. It is helpful to re-define $\\mathbf{x}$ to be an extended vector $\\mathbf{x}\\rightarrow (1,\\mathbf{x})$ (which just accounts for an intercept, see Sec. VI of the review). Then, the Likelihood function for Logistic regression is given by the sigmoid function\n",
    "\n",
    "$$\n",
    "P(c_i=1)=1-P(c_i=0)= {1 \\over 1+ e^{-\\mathbf{w}\\cdot \\mathbf{x}_i}},\n",
    "$$\n",
    "\n",
    "where $\\mathbf{w}$ are the weights that define the logistic regression. Notice that this is just the Fermi function with $\\beta E=-\\mathbf{w}\\cdot \\mathbf{x}$.\n",
    "\n",
    "\n",
    "As in Sec. VI of the review, we will maximize the Log-likelihood of the observed data. Let us define the function\n",
    "$$\n",
    "f(a)={1 \\over 1+ e^{-a}},\n",
    "$$\n",
    "Notice that the derivative with respect to $a$ is given by\n",
    "$$\n",
    "{df \\over da}= f(1-f).\n",
    "$$\n",
    "\n",
    "Define $f_i \\equiv f(\\mathbf{w}\\cdot \\mathbf{x}_i)$. Then, the Likelihood of the data $\\{ \\mathbf{x}_i, C_i \\}$ is given by\n",
    "$$\n",
    "P(Data|\\mathbf{x})= \\prod_{i=1}^n f_i^{C_i}(1-f_i)^{1-C_i}\n",
    "$$\n",
    "and the log-likelihood is given by\n",
    "$$\n",
    "\\log{P(Data|\\mathbf{w})}= \\sum_{i=1}^n C_i \\log f_i + (1-C_i)\\log(1-f_i)\n",
    "$$\n",
    "\n",
    "The negative of the log-likelihood gives us the cross-entropy error function\n",
    "$$\n",
    "\\mathrm{Cross\\,Entropy}=E(\\mathbf{w})= -\\sum_{i=1}^n C_i \\log f_i + (1-C_i)\\log(1-f_i).\n",
    "$$\n",
    "\n",
    "Using the formula above notice that\n",
    "$$\n",
    "\\nabla E(\\mathbf{w})=\\sum_{i=1}^n (f_i-C_i)\\mathbf{x}_i.\n",
    "$$\n",
    "In other words, the gradient points in the sum of training example directions weighted by the difference between the true label and the probability of predicting that label.\n",
    "\n",
    "\n",
    "\n",
    "## Finding the MLE Estimate ##\n",
    "\n",
    "Notice the Maximum-Likelihood Estimation (MLE) is the same as minimizing the cross-entropy. There is no closed form expression for this. One strategy is to start with an arbitrary $\\mathbf{w}$ and then update our estimate based on our error function. In particular, we would like to nudge $\\mathbf{w}$ in the direction where the error is decreasing the fastest. This is the idea behind gradient descent. Furthermore, we can show that the cross-entropy error function used in logistic regression has a unique minimum. Thus, we can perform this procedure with relative ease (However, as a word of caution, note there is a generic instability in the MLE procedure for linearly separable data).\n",
    "\n",
    "Theoretically, one nice method for doing this is the <i> Newton-Raphson </i> method. In this method, we iteratively calculate the gradient \n",
    "$$\n",
    "\\mathbf{w}^{new} \\leftarrow \\mathbf{w}^{old} - \\mathbf{H}^{-1} \\nabla E(\\mathbf{w}),\n",
    "$$\n",
    "where $\\mathbf{H}$ is the Hessian matrix which is the second derivative of the energy function. For OLS linear regression, one can show that this procedure yields the right answer.\n",
    "\n",
    "<b> Exercise: </b> Show that for OLS Linear regression the formula above produces right answer.\n",
    "Answer: I dont' know how to show this.\n",
    "\n",
    "\n",
    "\n",
    "More generally, there are a number of generalizations of this idea that have been proposed. We will refer to these kinds of methods as generalized gradient descent methods and discuss them extensively in what follows.\n",
    "\n",
    "\n",
    "## Importing the SUSY data set with Pandas\n",
    "\n",
    "<b> Exercise:</b> In what follows, use Pandas to import the first 4,500,000 examples and call that the training data and import the last 500,000 examples and call that the test data."
   ]
  },
  {
   "cell_type": "code",
   "execution_count": 6,
   "metadata": {},
   "outputs": [],
   "source": [
    "# Importing the SUSY Data set\n",
    "import sys, os\n",
    "import pandas as pd\n",
    "\n",
    "import numpy as np\n",
    "import warnings\n",
    "#Commnet the next line on to turn off warnings\n",
    "#warnings.filterwarnings('ignore')\n",
    "\n",
    "\n",
    "seed=12\n",
    "np.random.seed(seed)\n",
    "# import tensorflow as tf\n",
    "import tensorflow.compat.v1 as tf\n",
    "tf.disable_v2_behavior()\n",
    "# suppress tflow compilation warnings\n",
    "os.environ['TF_CPP_MIN_LOG_LEVEL'] = '2'\n",
    "\n",
    "tf.set_random_seed(seed)\n",
    "# tf.random.set_seed(seed)\n",
    "\n",
    "# Download the SUSY.csv (about 2GB) from UCI ML archive and save it in the same directory as this jupyter notebook\n",
    "# See: https://archive.ics.uci.edu/ml/machine-learning-databases/00279/\n",
    "filename=\"SUSY.csv\"\n",
    "# filename=os.path.expanduser('~')+'/ML_review/SUSY_data/SUSY.csv' \n",
    "\n",
    "columns=[\"signal\", \"lepton 1 pT\", \"lepton 1 eta\", \"lepton 1 phi\", \"lepton 2 pT\", \"lepton 2 eta\", \n",
    "         \"lepton 2 phi\", \"missing energy magnitude\", \"missing energy phi\", \"MET_rel\", \n",
    "         \"axial MET\", \"M_R\", \"M_TR_2\", \"R\", \"MT2\", \"S_R\", \"M_Delta_R\", \"dPhi_r_b\", \"cos(theta_r1)\"]\n",
    "\n",
    "# Load 1,500,000 rows as train data, 50,000 as test data\n",
    "df_train=pd.read_csv(filename,names=columns,nrows=4500000,engine='python')\n",
    "df_test=pd.read_csv(filename,names=columns,nrows=50000, skiprows=4500000,engine='python')"
   ]
  },
  {
   "cell_type": "markdown",
   "metadata": {},
   "source": [
    "## Run logistic regression using Linear Model functions in TensorFlow##\n",
    "\n",
    "We now will run logistic regression using MLE. \n",
    "\n",
    "<b>Exercise:</b> Using the tensor flow tutorial [here](https://www.tensorflow.org/versions/r0.9/tutorials/wide/index.html#setup), we will run logistic regression on the SUSY data for both the simple features (first 8 features) and the full feature space. First we will start with only the low-level features. We will also investigate the use of Ridge Regression by testing the results as as function of the regularization parameter $\\alpha$. \n",
    "\n",
    "Let us define some functions to do the actual training for us and will let them take the number of features as an input parameter.\n"
   ]
  },
  {
   "cell_type": "code",
   "execution_count": 3,
   "metadata": {},
   "outputs": [],
   "source": [
    "%matplotlib inline\n",
    "import matplotlib as mpl\n",
    "import matplotlib.pyplot as plt\n",
    "import sys\n",
    "#import ml_style as style #optional styling sheet\n",
    "#mpl.rcParams.update(style.style) #optional styling sheet\n",
    "\n",
    "def getTrainData(nVar):\n",
    "    designMatrix = df_train.iloc[:,1:nVar+1].values\n",
    "    #now the signal\n",
    "    labels = df_train['signal'].values # labels (0 or 1)\n",
    "    return (designMatrix,labels)\n",
    "\n",
    "def getTestData(nVar):\n",
    "    designMatrix = df_test.iloc[:,1:nVar+1].values\n",
    "    #now the signal\n",
    "    labels = df_test['signal'].values\n",
    "    return (designMatrix,labels)\n",
    "\n",
    "# define\n",
    "def build_roc_curve(probs, signal_bit, threshes):\n",
    "    # Convert things to a pandas series to build a DataFrame\n",
    "    # which will make ROC curve logic easier to express\n",
    "    signal_probs = pd.Series(probs[:,1])\n",
    "    signal_true = pd.Series(signal_bit)\n",
    "    signal_df = pd.DataFrame(signal_probs, columns=['sig_prob'])\n",
    "    signal_df.loc[:,'sig_true'] = signal_true\n",
    "    Acceptance = []\n",
    "    Rejection = []\n",
    "    for thresh in threshes:\n",
    "        # define acceptance\n",
    "        signal_df.loc[:,'accept'] = signal_df['sig_prob'] > thresh\n",
    "        # sum over data frame with slicing conditions\n",
    "        nSigCor = len(signal_df[(signal_df['accept']) & (signal_df['sig_true']==1.)])\n",
    "        nSig = len(signal_df[signal_df['sig_true']==1.])\n",
    "        nBkgCor = len(signal_df[ (signal_df['sig_true']==0.) & (~signal_df['accept'])])\n",
    "        nBkg = len(signal_df[signal_df['sig_true']==0.])\n",
    "        Acceptance.append(nSigCor/nSig) # False positive rate\n",
    "        Rejection.append(nBkgCor/nBkg) # True positive rate\n",
    "\n",
    "    return Acceptance, Rejection\n",
    "    \n",
    "# let's define this as a function so we can call it easily\n",
    "def runTensorFlowRegression(nVar,alpha):\n",
    "\n",
    "    #make data array placeholder for just first 8 simple features\n",
    "    x = tf.placeholder(tf.float32,[None,nVar])\n",
    "    #make weights and bias\n",
    "    W = tf.Variable(tf.zeros([nVar,2])) #we will make y 'onehot' 0 bit is bkg, 1 bit is signal\n",
    "    b = tf.Variable(tf.zeros([2]))\n",
    "\n",
    "    #make 'answer variable'\n",
    "    y = tf.nn.softmax(tf.matmul(x, W) + b)\n",
    "    #placeholder for correct answer\n",
    "    y_ = tf.placeholder(tf.float32, [None, 2])\n",
    "    #cross entropy with L2 regularizer\n",
    "    cross_entropy = tf.reduce_mean(tf.nn.softmax_cross_entropy_with_logits_v2(logits=y,labels=y_)+alpha*tf.nn.l2_loss(W))\n",
    "    \n",
    "    #define training step\n",
    "    train_step = tf.train.GradientDescentOptimizer(0.5).minimize(cross_entropy)\n",
    "    #initialize variables \n",
    "    init = tf.global_variables_initializer()\n",
    "    #setup session\n",
    "    sess = tf.Session()\n",
    "    sess.run(init)\n",
    "\n",
    "    #ok now everything is setup for tensorflow, but we need the data in a useful form\n",
    "    #first let's get the variables\n",
    "    Var_train, Sig_train_bit1 = getTrainData(nVar)\n",
    "    #now the signal\n",
    "    Sig_train_bit0 = Sig_train_bit1.copy()\n",
    "    Sig_train_bit0 = 1 - Sig_train_bit0\n",
    "    Sig_train = np.column_stack((Sig_train_bit0,Sig_train_bit1))\n",
    "    \n",
    "    ######## ------- TRAINING ----------############\n",
    "    #Now perform minibatch gradient descent with minibatches of size 100:\n",
    "    n_data = len(Sig_train_bit1)\n",
    "    minibatch_size = 1000\n",
    "    n_minibatch = n_data//minibatch_size\n",
    "    print('\\t Training with %i minibatches, dataset size is %i'%(n_minibatch,n_data))\n",
    "    for i in range(0, n_minibatch):\n",
    "        sys.stdout.write(\"%.3f %% completed \\r\"%(100*i/n_minibatch))\n",
    "        sys.stdout.flush()\n",
    "        start = i*minibatch_size\n",
    "        end = (i+1)*minibatch_size-1\n",
    "        \n",
    "        batch_x = Var_train[start:end]\n",
    "        batch_y = Sig_train[start:end]\n",
    "        sess.run(train_step, feed_dict={x: batch_x, y_: batch_y})\n",
    "    \n",
    "    \n",
    "    # Accuracy function:\n",
    "    correct_prediction = tf.equal(tf.argmax(y,1), tf.argmax(y_,1))\n",
    "    accuracy = tf.reduce_mean(tf.cast(correct_prediction, tf.float32))\n",
    "    \n",
    "    ######## ------- TESTING ----------############\n",
    "    # Setup test data\n",
    "    Var_test = df_test.iloc[:,1:nVar+1].values\n",
    "    \n",
    "    # Now the signal\n",
    "    Sig_test_bit1 = df_test['signal'].values\n",
    "    \n",
    "    Sig_test_bit0 = Sig_test_bit1.copy()\n",
    "    Sig_test_bit0 = 1 - Sig_test_bit0\n",
    "    Sig_test = np.column_stack((Sig_test_bit0,Sig_test_bit1))\n",
    "    print(\"\\t Accuracy for alpha %.1E : %.3f\" %(alpha,sess.run(accuracy, feed_dict={x: Var_test, y_: Sig_test})))\n",
    "    \n",
    "    # Get the weights\n",
    "    weights = W.eval(session=sess)\n",
    "    # Get probabilities assigned (i.e. evaluate y on test data)\n",
    "    probs = y.eval(feed_dict = {x: Var_test}, session = sess)\n",
    "    # now let's get the signal efficiency and background rejection on the test data\n",
    "    print('\\t Computing ROC curve ...')\n",
    "    # build ROC curve by scanning over thresholds of probability of being\n",
    "    # a background event and calculating signal efficiency/background rejection\n",
    "    # at each threshold\n",
    "    threshes = np.arange(0,1,0.01)\n",
    "    Acceptance, Rejection = build_roc_curve(probs, Sig_test_bit1, threshes)\n",
    "\n",
    "    return (probs,Acceptance,Rejection)"
   ]
  },
  {
   "cell_type": "markdown",
   "metadata": {},
   "source": [
    "# Training and evaluating model\n",
    "Now let's run using the first 8 variables only (the low-level features). Note: this will take several minutes !"
   ]
  },
  {
   "cell_type": "code",
   "execution_count": 4,
   "metadata": {
    "scrolled": false
   },
   "outputs": [
    {
     "name": "stdout",
     "output_type": "stream",
     "text": [
      "Training for alpha = 1.00E-10\n",
      "\t Training with 4500 minibatches, dataset size is 4500000\n",
      "\t Accuracy for alpha 1.0E-10 : 0.771\n",
      "\t Computing ROC curve ...\n",
      "Training for alpha = 7.94E-10\n",
      "\t Training with 4500 minibatches, dataset size is 4500000\n",
      "\t Accuracy for alpha 7.9E-10 : 0.771\n",
      "\t Computing ROC curve ...\n",
      "Training for alpha = 6.31E-09\n",
      "\t Training with 4500 minibatches, dataset size is 4500000\n",
      "\t Accuracy for alpha 6.3E-09 : 0.771\n",
      "\t Computing ROC curve ...\n",
      "Training for alpha = 5.01E-08\n",
      "\t Training with 4500 minibatches, dataset size is 4500000\n",
      "\t Accuracy for alpha 5.0E-08 : 0.771\n",
      "\t Computing ROC curve ...\n",
      "Training for alpha = 3.98E-07\n",
      "\t Training with 4500 minibatches, dataset size is 4500000\n",
      "\t Accuracy for alpha 4.0E-07 : 0.771\n",
      "\t Computing ROC curve ...\n",
      "Training for alpha = 3.16E-06\n",
      "\t Training with 4500 minibatches, dataset size is 4500000\n",
      "\t Accuracy for alpha 3.2E-06 : 0.771\n",
      "\t Computing ROC curve ...\n",
      "Training for alpha = 2.51E-05\n",
      "\t Training with 4500 minibatches, dataset size is 4500000\n",
      "\t Accuracy for alpha 2.5E-05 : 0.771\n",
      "\t Computing ROC curve ...\n",
      "Training for alpha = 2.00E-04\n",
      "\t Training with 4500 minibatches, dataset size is 4500000\n",
      "\t Accuracy for alpha 2.0E-04 : 0.770\n",
      "\t Computing ROC curve ...\n",
      "Training for alpha = 1.58E-03\n",
      "\t Training with 4500 minibatches, dataset size is 4500000\n",
      "\t Accuracy for alpha 1.6E-03 : 0.768\n",
      "\t Computing ROC curve ...\n",
      "Training for alpha = 1.26E-02\n",
      "\t Training with 4500 minibatches, dataset size is 4500000\n",
      "\t Accuracy for alpha 1.3E-02 : 0.760\n",
      "\t Computing ROC curve ...\n",
      "Training for alpha = 1.00E-01\n",
      "\t Training with 4500 minibatches, dataset size is 4500000\n",
      "\t Accuracy for alpha 1.0E-01 : 0.733\n",
      "\t Computing ROC curve ...\n"
     ]
    },
    {
     "data": {
      "image/png": "[encoded data removed]",
      "text/plain": [
       "<Figure size 432x288 with 1 Axes>"
      ]
     },
     "metadata": {
      "needs_background": "light"
     },
     "output_type": "display_data"
    }
   ],
   "source": [
    "# We sweep the L2 regularizer strength (alpha) over 10 decades\n",
    "alphas = np.logspace(-10,-1,11)\n",
    "fig = plt.figure()\n",
    "ax = fig.add_subplot(111)\n",
    "it=0\n",
    "for alpha in alphas:\n",
    "    print(\"Training for alpha = %.2E\"%alpha)\n",
    "    c1 = 1.*( float(it) % 3.)/3.0\n",
    "    c2 = 1.*( float(it) % 9.)/9.0\n",
    "    c3 = 1.*( float(it) % 27.)/27.0\n",
    "    probsSimple,accep,rej = runTensorFlowRegression(8,alpha)\n",
    "    ax.scatter(accep,rej,c=[[c1,c2,c3]],label='Alpha: %.1E' %alpha)\n",
    "    it+=1\n",
    "    \n",
    "ax.set_xlabel('signal efficiency')\n",
    "ax.set_ylabel('background rejection')\n",
    "plt.legend(loc='lower left', fontsize = 'small');\n",
    "plt.show()"
   ]
  },
  {
   "cell_type": "markdown",
   "metadata": {},
   "source": [
    "An accuracy of 77% is pretty good! More important to physics analysis is the ROC curve above which allows physicists to define a part of phase space that has more or less signal acceptance, but also less or more background rejection. It is up to the individual analysts in particular searches to decide on the best working point for them.\n",
    "\n",
    "As you can see, using just the kinematic variables of the final state objects there is no need for regularization and in fact as we turn off the relative weights of the variables we lose discrimination power.\n",
    "\n",
    "<b> Question:</b> Why do you think this is the case?\n",
    "\n",
    "Answer: Penalizers are effective only when we have redundant information and thus the features of choice are dependent. All kinematic variables seem therefore independent and thus there is no redundant information we risk overfitting on."
   ]
  },
  {
   "cell_type": "code",
   "execution_count": 5,
   "metadata": {},
   "outputs": [
    {
     "name": "stdout",
     "output_type": "stream",
     "text": [
      "\t Training with 4500 minibatches, dataset size is 4500000\n",
      "\t Accuracy for alpha 1.0E-05 : 0.771\n",
      "\t Computing ROC curve ...\n"
     ]
    },
    {
     "data": {
      "text/plain": [
       "<matplotlib.axes._subplots.AxesSubplot at 0x22c037c4608>"
      ]
     },
     "execution_count": 5,
     "metadata": {},
     "output_type": "execute_result"
    },
    {
     "data": {
      "image/png": "[encoded data removed]",
      "text/plain": [
       "<Figure size 432x288 with 1 Axes>"
      ]
     },
     "metadata": {
      "needs_background": "light"
     },
     "output_type": "display_data"
    },
    {
     "data": {
      "image/png": "[encoded data removed]",
      "text/plain": [
       "<Figure size 432x288 with 1 Axes>"
      ]
     },
     "metadata": {
      "needs_background": "light"
     },
     "output_type": "display_data"
    }
   ],
   "source": [
    "# now let's investigate how mixed the events are\n",
    "probsSimple,accep,rej = runTensorFlowRegression(8,.00001) # train the model for 8 variables and alpha=.00001\n",
    "Signal = df_test['signal'].values\n",
    "\n",
    "df_test_acc = pd.DataFrame({'PROB':probsSimple[:,1]})\n",
    "df_test_acc['SIG']=Signal\n",
    "df_test_acc_sig = df_test_acc.query('SIG==1')\n",
    "df_test_acc_bkg = df_test_acc.query('SIG==0')\n",
    "df_test_acc_sig.plot(kind='hist',y='PROB',color='blue',alpha=0.5,bins=np.linspace(0,1,10),label='Signal')\n",
    "df_test_acc_bkg.plot(kind='hist',y='PROB',color='red',label='Background')"
   ]
  },
  {
   "cell_type": "markdown",
   "metadata": {},
   "source": [
    "You can see that the classification is pretty certain about its prediction (the majority of events are at the extremes of the probability), but also that a fair amount of signal events look lot like background events. This is often just a fact of life in HEP analysis."
   ]
  },
  {
   "cell_type": "markdown",
   "metadata": {},
   "source": [
    "### Now let's try to train the same model using the full set of 18 features:"
   ]
  },
  {
   "cell_type": "code",
   "execution_count": 20,
   "metadata": {},
   "outputs": [
    {
     "name": "stdout",
     "output_type": "stream",
     "text": [
      "\t Training with 1500 minibatches, dataset size is 1500000\n",
      "\t Accuracy for alpha 1.0E-10 : 0.788\n",
      "\t Computing ROC curve ...\n",
      "\t Training with 1500 minibatches, dataset size is 1500000\n",
      "\t Accuracy for alpha 1.3E-09 : 0.788\n",
      "\t Computing ROC curve ...\n",
      "\t Training with 1500 minibatches, dataset size is 1500000\n",
      "\t Accuracy for alpha 1.6E-08 : 0.788\n",
      "\t Computing ROC curve ...\n",
      "\t Training with 1500 minibatches, dataset size is 1500000\n",
      "\t Accuracy for alpha 2.0E-07 : 0.788\n",
      "\t Computing ROC curve ...\n",
      "\t Training with 1500 minibatches, dataset size is 1500000\n",
      "\t Accuracy for alpha 2.5E-06 : 0.788\n",
      "\t Computing ROC curve ...\n",
      "\t Training with 1500 minibatches, dataset size is 1500000\n",
      "\t Accuracy for alpha 3.2E-05 : 0.788\n",
      "\t Computing ROC curve ...\n",
      "\t Training with 1500 minibatches, dataset size is 1500000\n",
      "\t Accuracy for alpha 4.0E-04 : 0.787\n",
      "\t Computing ROC curve ...\n",
      "\t Training with 1500 minibatches, dataset size is 1500000\n",
      "\t Accuracy for alpha 5.0E-03 : 0.778\n",
      "\t Computing ROC curve ...\n",
      "\t Training with 1500 minibatches, dataset size is 1500000\n",
      "\t Accuracy for alpha 6.3E-02 : 0.749\n",
      "\t Computing ROC curve ...\n",
      "\t Training with 1500 minibatches, dataset size is 1500000\n",
      "\t Accuracy for alpha 7.9E-01 : 0.723\n",
      "\t Computing ROC curve ...\n",
      "\t Training with 1500 minibatches, dataset size is 1500000\n",
      "\t Accuracy for alpha 1.0E+01 : 0.543\n",
      "\t Computing ROC curve ...\n"
     ]
    },
    {
     "data": {
      "image/png": "[encoded data removed]",
      "text/plain": [
       "<Figure size 432x288 with 1 Axes>"
      ]
     },
     "metadata": {
      "needs_background": "light"
     },
     "output_type": "display_data"
    }
   ],
   "source": [
    "alphas = np.logspace(-10,1,11)\n",
    "fig = plt.figure()\n",
    "ax = fig.add_subplot(111)\n",
    "it=0\n",
    "for alpha in alphas:\n",
    "    c1 = 1.*( float(it) % 3.)/3.0\n",
    "    c2 = 1.*( float(it) % 9.)/9.0\n",
    "    c3 = 1.*( float(it) % 27.)/27.0\n",
    "    probsSimple,accep,rej = runTensorFlowRegression(18,alpha)\n",
    "    ax.scatter(accep,rej,c=[[c1,c2,c3]],label='Alpha: %.1E' %alpha)\n",
    "    it+=1\n",
    "    \n",
    "ax.set_xlabel('signal efficiency')\n",
    "ax.set_ylabel('background rejection')\n",
    "plt.legend(loc='lower left', fontsize = 'small');\n",
    "plt.show()"
   ]
  },
  {
   "cell_type": "markdown",
   "metadata": {},
   "source": [
    "Interestingly the accuracy barely improved! This suggests (as noted in the paper cited above) that machine learning is already doing a good job of capturing the information present in the complex variables using only the low-level variables as input. \n",
    "\n",
    "One thing that does change is that varying $\\alpha$ now has some visible differences in the performance. It looks like increasing $\\alpha$ simply degrades performance so the result is telling us we are most likely not undersampled."
   ]
  },
  {
   "cell_type": "markdown",
   "metadata": {},
   "source": [
    "### Let's now try the same with scikit packages. First we will define our function to run the regression:"
   ]
  },
  {
   "cell_type": "code",
   "execution_count": 7,
   "metadata": {},
   "outputs": [],
   "source": [
    "from sklearn.neural_network import MLPClassifier\n",
    "from sklearn.linear_model import SGDClassifier\n",
    "from sklearn import preprocessing\n",
    "\n",
    "def runSciKitRegressionL2(nVar, alpha):\n",
    "    X_train, y_train = getTrainData(nVar)\n",
    "    X_test, y_test = getTestData(nVar)\n",
    "    ### SCALE DATA\n",
    "    X_train = preprocessing.scale(X_train)\n",
    "    X_test = preprocessing.scale(X_test)\n",
    "    y_train = preproccesing.scale(y_train)\n",
    "    y_test = preprocessing.scale(y_test)\n",
    "    clf = SGDClassifier(loss=\"log\", penalty=\"l2\",alpha=alpha,max_iter=5,tol=None)\n",
    "    clf.fit(X_train,y_train.ravel())\n",
    "    predictions = clf.predict(X_test)\n",
    "    print('Accuracy on test data with alpha %.2E : %.3f' %(alpha,clf.score(X_test,y_test)) )\n",
    "    probs = clf.predict_proba(X_test)\n",
    "\n",
    "    #get signal acceptance and background rejection\n",
    "    thresholds = np.arange(0,1,.01)\n",
    "    Acceptance, Rejection = build_roc_curve(probs, y_test, thresholds)\n",
    "    return (probs, Acceptance, Rejection)\n",
    "\n",
    "\n",
    "def runSciKitRegressionL1(nVar,alpha):\n",
    "    X_train, y_train = getTrainData(nVar)\n",
    "    X_test, y_test = getTestData(nVar)\n",
    "    clf = SGDClassifier(loss=\"log\", penalty=\"l1\",alpha=alpha,max_iter=5,tol=None)\n",
    "    clf.fit(X_train,y_train.ravel())\n",
    "    predictions = clf.predict(X_test)\n",
    "    print('Accuracy on test data with alpha %.2E : %.3f' %(alpha,clf.score(X_test,y_test)) )\n",
    "    probs = clf.predict_proba(X_test)\n",
    "\n",
    "    #get signal acceptance and background rejection\n",
    "    thresholds = np.arange(0,1,.01)\n",
    "    Acceptance, Rejection = build_roc_curve(probs, y_test, thresholds)\n",
    "    return (probs,Acceptance,Rejection)"
   ]
  },
  {
   "cell_type": "code",
   "execution_count": null,
   "metadata": {},
   "outputs": [
    {
     "name": "stdout",
     "output_type": "stream",
     "text": [
      "Accuracy on test data with alpha 1.00E-10 : 0.680\n",
      "Accuracy on test data with alpha 1.26E-09 : 0.669\n",
      "Accuracy on test data with alpha 1.58E-08 : 0.664\n",
      "Accuracy on test data with alpha 2.00E-07 : 0.757\n"
     ]
    }
   ],
   "source": [
    "alphas = np.logspace(-10,1,11)\n",
    "fig = plt.figure()\n",
    "ax = fig.add_subplot(111)\n",
    "it=0\n",
    "for alpha in alphas:\n",
    "    c1 = 1.*( float(it) % 3.)/3.0\n",
    "    c2 = 1.*( float(it) % 9.)/9.0\n",
    "    c3 = 1.*( float(it) % 27.)/27.0\n",
    "    probs,accept,rej = runSciKitRegressionL1(8,alpha)\n",
    "    ax.scatter(accept,rej,c=[[c1,c2,c3]],label='Alpha: %.1E' %alpha)\n",
    "    it+=1\n",
    "\n",
    "ax.set_xlabel('signal efficiency')\n",
    "ax.set_ylabel('background rejection')\n",
    "plt.legend(loc='lower left', fontsize = 'small');\n",
    "plt.show()"
   ]
  },
  {
   "cell_type": "markdown",
   "metadata": {
    "collapsed": true
   },
   "source": [
    "This regression shows significantly more dependence on $\\alpha$, in particular the total sample accuracy depends on $\\alpha$, which is also manifested as being able to see clearly the differences in the ROC curves. It also has a slightly lower overall accuracy.\n",
    "\n",
    "The group of points in the middle is indicative of the regression not being able to differentiate well between signal and background events while also having its classification categories well separated. What we mean is that the likelihood that the algorithm comes up with is very 'certain' about its classification, but not accurate. It is understandable that this would happen at large values of $\\alpha$ in L1 regularization because it is turning off most of the input variables and so the classification is basically drawing a line in the distribution of just a few (or even one) input features and saying signal events are on this side while background events are on that side.\n",
    "\n",
    "Let's check and see:"
   ]
  },
  {
   "cell_type": "code",
   "execution_count": null,
   "metadata": {},
   "outputs": [],
   "source": [
    "# now let's investigate how mixed the events are\n",
    "probsSimple,accep,rej = runSciKitRegressionL1(8,.5)\n",
    "Signal = df_test.iloc[:,0:1]\n",
    "\n",
    "df_test_acc = pd.DataFrame({'PROB':probsSimple[:,1]})\n",
    "df_test_acc['SIG']=Signal\n",
    "df_test_acc_sig = df_test_acc.query('SIG==1')\n",
    "df_test_acc_bkg = df_test_acc.query('SIG==0')\n",
    "df_test_acc_sig.plot(kind='hist',y='PROB',color='blue',alpha=0.5,bins=np.linspace(0,1,10),label='Signal')\n",
    "df_test_acc_bkg.plot(kind='hist',y='PROB',color='red',label='Background')"
   ]
  },
  {
   "cell_type": "markdown",
   "metadata": {},
   "source": [
    "Exactly as we thought, the events have been distributed into two bins. What is interesting is that we have disfigured the model to such an extreme point that the background test data looks more like signal than the signal test data (recall that the reference point is the signal <i> train</i> data).\n",
    "\n",
    "Now let's check running LASSO regression with the full set of features:"
   ]
  },
  {
   "cell_type": "code",
   "execution_count": null,
   "metadata": {},
   "outputs": [],
   "source": [
    "alphas = np.logspace(-10,1,11)\n",
    "fig = plt.figure()\n",
    "ax = fig.add_subplot(111)\n",
    "it=0\n",
    "for alpha in alphas:\n",
    "    c1 = 1.*( float(it) % 3.)/3.0\n",
    "    c2 = 1.*( float(it) % 9.)/9.0\n",
    "    c3 = 1.*( float(it) % 27.)/27.0\n",
    "    probs,accept,rej = runSciKitRegressionL1(18,alpha)\n",
    "    ax.scatter(accept,rej,c=[[c1,c2,c3]],label='Alpha: %.1E' %alpha)\n",
    "    it+=1\n",
    "\n",
    "ax.set_xlabel('signal efficiency')\n",
    "ax.set_ylabel('background rejection')\n",
    "plt.legend(loc='lower left', fontsize = 'small');\n",
    "plt.show()"
   ]
  },
  {
   "cell_type": "markdown",
   "metadata": {},
   "source": [
    "With the full set of variables there is more reasonable behavior versus our regularization parameter. To try to understand this, we can think of the underlying data. In our case, every input variable is important and when using just the eight low level variables we are removing too much valuable information when our regularization parameter is strong. When moving to the full set of variables, we recover some of the underlying information that we were killing off because of the fact that they are simply functions of those underlying variables.\n",
    "\n",
    "Let's test L2 now with the first 8 variables:"
   ]
  },
  {
   "cell_type": "code",
   "execution_count": 53,
   "metadata": {},
   "outputs": [
    {
     "name": "stdout",
     "output_type": "stream",
     "text": [
      "Accuracy on test data with alpha 1.00E-10 : 0.707\n",
      "Accuracy on test data with alpha 1.26E-09 : 0.694\n",
      "Accuracy on test data with alpha 1.58E-08 : 0.533\n",
      "Accuracy on test data with alpha 2.00E-07 : 0.671\n",
      "Accuracy on test data with alpha 2.51E-06 : 0.764\n",
      "Accuracy on test data with alpha 3.16E-05 : 0.768\n",
      "Accuracy on test data with alpha 3.98E-04 : 0.768\n",
      "Accuracy on test data with alpha 5.01E-03 : 0.768\n",
      "Accuracy on test data with alpha 6.31E-02 : 0.759\n",
      "Accuracy on test data with alpha 7.94E-01 : 0.694\n",
      "Accuracy on test data with alpha 1.00E+01 : 0.457\n"
     ]
    },
    {
     "data": {
      "image/png": "[encoded data removed]",
      "text/plain": [
       "<Figure size 432x288 with 1 Axes>"
      ]
     },
     "metadata": {
      "needs_background": "light"
     },
     "output_type": "display_data"
    }
   ],
   "source": [
    "alphas = np.logspace(-10,1,11)\n",
    "fig = plt.figure()\n",
    "ax = fig.add_subplot(111)\n",
    "it=0\n",
    "for alpha in alphas:\n",
    "    c1 = 1.*( float(it) % 3.)/3.0\n",
    "    c2 = 1.*( float(it) % 9.)/9.0\n",
    "    c3 = 1.*( float(it) % 27.)/27.0\n",
    "    probs,accept,rej = runSciKitRegressionL2(8,alpha)\n",
    "    ax.scatter(accept,rej,c=[[c1,c2,c3]],label='Alpha: %.1E' %alpha)\n",
    "    it+=1\n",
    "\n",
    "ax.set_xlabel('signal efficiency')\n",
    "ax.set_ylabel('background rejection')\n",
    "plt.legend(loc='lower left', fontsize = 'small');\n",
    "plt.show()"
   ]
  },
  {
   "cell_type": "markdown",
   "metadata": {},
   "source": [
    "Now let's try the full set of variables with L2 regularization:"
   ]
  },
  {
   "cell_type": "code",
   "execution_count": 54,
   "metadata": {},
   "outputs": [
    {
     "name": "stdout",
     "output_type": "stream",
     "text": [
      "Accuracy on test data with alpha 1.00E-10 : 0.752\n",
      "Accuracy on test data with alpha 1.26E-09 : 0.712\n",
      "Accuracy on test data with alpha 1.58E-08 : 0.616\n",
      "Accuracy on test data with alpha 2.00E-07 : 0.709\n",
      "Accuracy on test data with alpha 2.51E-06 : 0.768\n",
      "Accuracy on test data with alpha 3.16E-05 : 0.785\n",
      "Accuracy on test data with alpha 3.98E-04 : 0.789\n",
      "Accuracy on test data with alpha 5.01E-03 : 0.785\n",
      "Accuracy on test data with alpha 6.31E-02 : 0.768\n",
      "Accuracy on test data with alpha 7.94E-01 : 0.733\n",
      "Accuracy on test data with alpha 1.00E+01 : 0.608\n"
     ]
    },
    {
     "data": {
      "image/png": "[encoded data removed]",
      "text/plain": [
       "<Figure size 432x288 with 1 Axes>"
      ]
     },
     "metadata": {
      "needs_background": "light"
     },
     "output_type": "display_data"
    }
   ],
   "source": [
    "alphas = np.logspace(-10,1,11)\n",
    "fig = plt.figure()\n",
    "ax = fig.add_subplot(111)\n",
    "it=0\n",
    "for alpha in alphas:\n",
    "    c1 = 1.*( float(it) % 3.)/3.0\n",
    "    c2 = 1.*( float(it) % 9.)/9.0\n",
    "    c3 = 1.*( float(it) % 27.)/27.0\n",
    "    probs,accept,rej = runSciKitRegressionL2(18,alpha)\n",
    "    ax.scatter(accept,rej,c=[[c1,c2,c3]],label='Alpha: %.1E' %alpha)\n",
    "    it+=1\n",
    "\n",
    "ax.set_xlabel('signal efficiency')\n",
    "ax.set_ylabel('background rejection')\n",
    "plt.legend(loc='lower left', fontsize = 'small');\n",
    "plt.show()"
   ]
  },
  {
   "cell_type": "markdown",
   "metadata": {},
   "source": [
    "With L2 regularization we get all the way up to 79% accuracy and have a stable local maximum of it in $\\alpha$ space. This is completing the picture that L2 regularization is better suited to the task at hand, which makes sense considering all the input variables are in fact important."
   ]
  },
  {
   "cell_type": "markdown",
   "metadata": {},
   "source": [
    "<b> Exercises:</b>\n",
    "* Try running sci-kit learn after scaling the data - does it help the performance?\n",
    "* Try coming up with some 'rectangular' requirements (i.e. a set of optimized requirements on the input variables) and see how the ROC curve for those requirements compares to using Logistic Regression\n",
    "* Is there a way we could select a region training data that could potentially improve performance? Hint: Think about where the gains of ML are most valuable\n",
    "* Try adding a layer of neurons in the TensorFlow code to see if you can improve performance (see also discussion in Notebook 13: __Section IX: Pytorch DNN (SUSY)__)."
   ]
  },
  {
   "cell_type": "markdown",
   "metadata": {},
   "source": [
    "### Exercises Answers: ###\n",
    "\n",
    "<ol>\n",
    "    <li> Scaling the data does not seem to have a huge impact on performance. It increases accuracy for with certain alphas and decrease it a bit with others. Overall the impact seems positive but negligible. \n",
    "    <li> \n",
    "    <li> We could slipt the training set into different sets for cross-validation and see which one performs better.\n",
    "    \n",
    "</ol>"
   ]
  },
  {
   "cell_type": "code",
   "execution_count": null,
   "metadata": {},
   "outputs": [],
   "source": []
  }
 ],
 "metadata": {
  "anaconda-cloud": {},
  "kernelspec": {
   "display_name": "Python 3",
   "language": "python",
   "name": "python3"
  },
  "language_info": {
   "codemirror_mode": {
    "name": "ipython",
    "version": 3
   },
   "file_extension": ".py",
   "mimetype": "text/x-python",
   "name": "python",
   "nbconvert_exporter": "python",
   "pygments_lexer": "ipython3",
   "version": "3.7.4"
  }
 },
 "nbformat": 4,
 "nbformat_minor": 1
}
